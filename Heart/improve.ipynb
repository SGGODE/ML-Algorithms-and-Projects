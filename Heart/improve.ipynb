{
 "cells": [
  {
   "cell_type": "code",
   "execution_count": 9,
   "id": "c3df546d",
   "metadata": {},
   "outputs": [
    {
     "data": {
      "text/plain": [
       "297"
      ]
     },
     "execution_count": 9,
     "metadata": {},
     "output_type": "execute_result"
    }
   ],
   "source": [
    "# importing required libraries\n",
    "import numpy as np\n",
    "import pandas as pd\n",
    "import pickle\n",
    "from sklearn.preprocessing import StandardScaler\n",
    "from sklearn.model_selection import train_test_split\n",
    "from sklearn.linear_model import LogisticRegression\n",
    "from sklearn.metrics import accuracy_score, classification_report, confusion_matrix\n",
    "from sklearn.ensemble import RandomForestClassifier\n",
    "from sklearn.svm import SVC\n",
    "from sklearn.linear_model import LogisticRegression\n",
    "from sklearn.neighbors import KNeighborsClassifier\n",
    "from sklearn.tree import DecisionTreeClassifier\n",
    "\n",
    "\n",
    "# loading and reading the dataset\n",
    "\n",
    "heart = pd.read_csv(\"heart_cleveland_upload.csv\")\n",
    "\n",
    "# creating a copy of dataset so that will not affect our original dataset.\n",
    "heart_df = heart.copy()\n",
    "\n",
    "# Renaming some of the columns \n",
    "heart_df = heart_df.rename(columns={'condition':'target'})\n",
    "heart_df.head()\n",
    "len(heart_df)\n"
   ]
  },
  {
   "cell_type": "code",
   "execution_count": 2,
   "id": "124f44cc",
   "metadata": {},
   "outputs": [],
   "source": [
    "# model building \n",
    "\n",
    "#fixing our data in x and y. Here y contains target data and X contains rest all the features.\n",
    "x= heart_df.drop(columns= 'target')\n",
    "y= heart_df.target\n",
    "\n",
    "# splitting our dataset into training and testing for this we will use train_test_split library.\n",
    "x_train, x_test, y_train, y_test= train_test_split(x, y, test_size= 0.20, random_state=42)\n",
    "\n"
   ]
  },
  {
   "cell_type": "code",
   "execution_count": 3,
   "id": "3ac19940",
   "metadata": {},
   "outputs": [
    {
     "name": "stdout",
     "output_type": "stream",
     "text": [
      "0.7833333333333333\n"
     ]
    }
   ],
   "source": [
    "#feature scaling\n",
    "scaler= StandardScaler()\n",
    "x_train_scaler= scaler.fit_transform(x_train)\n",
    "x_test_scaler= scaler.fit_transform(x_test)\n",
    "\n",
    "# creating K-Nearest-Neighbor classifier\n",
    "model=RandomForestClassifier(n_estimators=20)\n",
    "model1=KNeighborsClassifier()\n",
    "model2=LogisticRegression()\n",
    "model.fit(x_train_scaler, y_train)\n",
    "model1.fit(x_train_scaler, y_train)\n",
    "model2.fit(x_train_scaler, y_train)\n",
    "y_pred= model.predict(x_test_scaler)\n",
    "\n",
    "p = model.score(x_test_scaler,y_test)\n",
    "print(p)\n"
   ]
  },
  {
   "cell_type": "code",
   "execution_count": 6,
   "id": "61ea0644",
   "metadata": {},
   "outputs": [
    {
     "name": "stdout",
     "output_type": "stream",
     "text": [
      "0.7\n"
     ]
    },
    {
     "data": {
      "text/plain": [
       "1.0"
      ]
     },
     "execution_count": 6,
     "metadata": {},
     "output_type": "execute_result"
    }
   ],
   "source": [
    "y_pred1= model1.predict(x_test_scaler)\n",
    "y_pred2= model2.predict(x_test_scaler)\n",
    "p1 =model1.score(x_test_scaler,y_test)\n",
    "print(p1)\n",
    "p2 =model2.score(x_test_scaler,y_test)\n",
    "p2\n",
    "model.score(x_train_scaler,y_train)\n",
    "\n"
   ]
  },
  {
   "cell_type": "code",
   "execution_count": 5,
   "id": "95180d0d",
   "metadata": {},
   "outputs": [
    {
     "name": "stdout",
     "output_type": "stream",
     "text": [
      "Classification Report\n",
      "               precision    recall  f1-score   support\n",
      "\n",
      "           0       0.81      0.78      0.79        32\n",
      "           1       0.76      0.79      0.77        28\n",
      "\n",
      "    accuracy                           0.78        60\n",
      "   macro avg       0.78      0.78      0.78        60\n",
      "weighted avg       0.78      0.78      0.78        60\n",
      "\n",
      "Accuracy: 78.33%\n",
      "\n",
      "[[25  7]\n",
      " [ 6 22]]\n"
     ]
    }
   ],
   "source": [
    "print('Classification Report\\n', classification_report(y_test, y_pred))\n",
    "print('Accuracy: {}%\\n'.format(round((accuracy_score(y_test, y_pred)*100),2)))\n",
    "\n",
    "cm = confusion_matrix(y_test, y_pred)\n",
    "print(cm)\n",
    "\n",
    "# Creating a pickle file for the classifier\n",
    "filename = 'heart-disease-prediction-LogisticRegression-model.pkl'\n",
    "pickle.dump(model2, open(filename, 'wb'))\n"
   ]
  },
  {
   "cell_type": "code",
   "execution_count": null,
   "id": "e42c49ad",
   "metadata": {},
   "outputs": [],
   "source": []
  }
 ],
 "metadata": {
  "kernelspec": {
   "display_name": "Python 3 (ipykernel)",
   "language": "python",
   "name": "python3"
  },
  "language_info": {
   "codemirror_mode": {
    "name": "ipython",
    "version": 3
   },
   "file_extension": ".py",
   "mimetype": "text/x-python",
   "name": "python",
   "nbconvert_exporter": "python",
   "pygments_lexer": "ipython3",
   "version": "3.10.1"
  }
 },
 "nbformat": 4,
 "nbformat_minor": 5
}
